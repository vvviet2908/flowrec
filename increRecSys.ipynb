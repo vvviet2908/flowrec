{
  "cells": [
    {
      "cell_type": "markdown",
      "metadata": {
        "id": "view-in-github",
        "colab_type": "text"
      },
      "source": [
        "<a href=\"https://colab.research.google.com/github/vvviet2908/flowrec/blob/master/increRecSys.ipynb\" target=\"_parent\"><img src=\"https://colab.research.google.com/assets/colab-badge.svg\" alt=\"Open In Colab\"/></a>"
      ]
    },
    {
      "cell_type": "code",
      "execution_count": null,
      "metadata": {
        "colab": {
          "base_uri": "https://localhost:8080/",
          "height": 1000
        },
        "id": "EOzylOjowkup",
        "outputId": "0cf40252-d19b-4307-c286-c8b1ae275286"
      },
      "outputs": [
        {
          "output_type": "stream",
          "name": "stdout",
          "text": [
            "Cloning into 'flowrec'...\n",
            "remote: Enumerating objects: 389, done.\u001b[K\n",
            "remote: Counting objects: 100% (389/389), done.\u001b[K\n",
            "remote: Compressing objects: 100% (259/259), done.\u001b[K\n",
            "remote: Total 389 (delta 146), reused 308 (delta 94), pack-reused 0\u001b[K\n",
            "Receiving objects: 100% (389/389), 36.29 MiB | 10.56 MiB/s, done.\n",
            "Resolving deltas: 100% (146/146), done.\n",
            "Checking out files: 100% (166/166), done.\n",
            "/content/flowrec\n",
            "Collecting matplotlib==3.1.2\n",
            "  Downloading matplotlib-3.1.2-cp37-cp37m-manylinux1_x86_64.whl (13.1 MB)\n",
            "\u001b[K     |████████████████████████████████| 13.1 MB 1.1 MB/s \n",
            "\u001b[?25hCollecting pandas==0.25.3\n",
            "  Downloading pandas-0.25.3-cp37-cp37m-manylinux1_x86_64.whl (10.4 MB)\n",
            "\u001b[K     |████████████████████████████████| 10.4 MB 33.2 MB/s \n",
            "\u001b[?25hCollecting ciso8601==2.1.1\n",
            "  Downloading ciso8601-2.1.1.tar.gz (12 kB)\n",
            "Collecting scipy==1.3.1\n",
            "  Downloading scipy-1.3.1-cp37-cp37m-manylinux1_x86_64.whl (25.2 MB)\n",
            "\u001b[K     |████████████████████████████████| 25.2 MB 1.7 MB/s \n",
            "\u001b[?25hCollecting scikit_multiflow==0.3.0\n",
            "  Downloading scikit_multiflow-0.3.0-cp37-cp37m-manylinux1_x86_64.whl (16.3 MB)\n",
            "\u001b[K     |████████████████████████████████| 16.3 MB 34.6 MB/s \n",
            "\u001b[?25hCollecting numpy==1.17.3\n",
            "  Downloading numpy-1.17.3-cp37-cp37m-manylinux1_x86_64.whl (20.0 MB)\n",
            "\u001b[K     |████████████████████████████████| 20.0 MB 1.3 MB/s \n",
            "\u001b[?25hRequirement already satisfied: python-dateutil>=2.1 in /usr/local/lib/python3.7/dist-packages (from matplotlib==3.1.2->-r requirements.txt (line 1)) (2.8.2)\n",
            "Requirement already satisfied: kiwisolver>=1.0.1 in /usr/local/lib/python3.7/dist-packages (from matplotlib==3.1.2->-r requirements.txt (line 1)) (1.3.2)\n",
            "Requirement already satisfied: cycler>=0.10 in /usr/local/lib/python3.7/dist-packages (from matplotlib==3.1.2->-r requirements.txt (line 1)) (0.11.0)\n",
            "Requirement already satisfied: pyparsing!=2.0.4,!=2.1.2,!=2.1.6,>=2.0.1 in /usr/local/lib/python3.7/dist-packages (from matplotlib==3.1.2->-r requirements.txt (line 1)) (3.0.6)\n",
            "Requirement already satisfied: pytz>=2017.2 in /usr/local/lib/python3.7/dist-packages (from pandas==0.25.3->-r requirements.txt (line 2)) (2018.9)\n",
            "Requirement already satisfied: sortedcontainers>=1.5.7 in /usr/local/lib/python3.7/dist-packages (from scikit_multiflow==0.3.0->-r requirements.txt (line 5)) (2.4.0)\n",
            "Requirement already satisfied: scikit-learn>=0.20 in /usr/local/lib/python3.7/dist-packages (from scikit_multiflow==0.3.0->-r requirements.txt (line 5)) (1.0.1)\n",
            "Requirement already satisfied: six>=1.5 in /usr/local/lib/python3.7/dist-packages (from python-dateutil>=2.1->matplotlib==3.1.2->-r requirements.txt (line 1)) (1.15.0)\n",
            "Requirement already satisfied: threadpoolctl>=2.0.0 in /usr/local/lib/python3.7/dist-packages (from scikit-learn>=0.20->scikit_multiflow==0.3.0->-r requirements.txt (line 5)) (3.0.0)\n",
            "Requirement already satisfied: joblib>=0.11 in /usr/local/lib/python3.7/dist-packages (from scikit-learn>=0.20->scikit_multiflow==0.3.0->-r requirements.txt (line 5)) (1.1.0)\n",
            "Building wheels for collected packages: ciso8601\n",
            "  Building wheel for ciso8601 (setup.py) ... \u001b[?25l\u001b[?25hdone\n",
            "  Created wheel for ciso8601: filename=ciso8601-2.1.1-cp37-cp37m-linux_x86_64.whl size=27470 sha256=b28d730d447d5465a65e430f646a13e81ae03d6b12c95cd2ff8a04950cf012f5\n",
            "  Stored in directory: /root/.cache/pip/wheels/58/71/56/a8a128e33e0d8e4d4be01abfedeec5bd1188066d82ca38447a\n",
            "Successfully built ciso8601\n",
            "Installing collected packages: numpy, scipy, pandas, matplotlib, scikit-multiflow, ciso8601\n",
            "  Attempting uninstall: numpy\n",
            "    Found existing installation: numpy 1.19.5\n",
            "    Uninstalling numpy-1.19.5:\n",
            "      Successfully uninstalled numpy-1.19.5\n",
            "  Attempting uninstall: scipy\n",
            "    Found existing installation: scipy 1.4.1\n",
            "    Uninstalling scipy-1.4.1:\n",
            "      Successfully uninstalled scipy-1.4.1\n",
            "  Attempting uninstall: pandas\n",
            "    Found existing installation: pandas 1.1.5\n",
            "    Uninstalling pandas-1.1.5:\n",
            "      Successfully uninstalled pandas-1.1.5\n",
            "  Attempting uninstall: matplotlib\n",
            "    Found existing installation: matplotlib 3.2.2\n",
            "    Uninstalling matplotlib-3.2.2:\n",
            "      Successfully uninstalled matplotlib-3.2.2\n",
            "\u001b[31mERROR: pip's dependency resolver does not currently take into account all the packages that are installed. This behaviour is the source of the following dependency conflicts.\n",
            "xarray 0.18.2 requires pandas>=1.0, but you have pandas 0.25.3 which is incompatible.\n",
            "kapre 0.3.6 requires numpy>=1.18.5, but you have numpy 1.17.3 which is incompatible.\n",
            "jaxlib 0.1.71+cuda111 requires numpy>=1.18, but you have numpy 1.17.3 which is incompatible.\n",
            "jax 0.2.25 requires numpy>=1.18, but you have numpy 1.17.3 which is incompatible.\n",
            "google-colab 1.0.0 requires pandas~=1.1.0; python_version >= \"3.0\", but you have pandas 0.25.3 which is incompatible.\n",
            "fbprophet 0.7.1 requires pandas>=1.0.4, but you have pandas 0.25.3 which is incompatible.\n",
            "datascience 0.10.6 requires folium==0.2.1, but you have folium 0.8.3 which is incompatible.\n",
            "albumentations 0.1.12 requires imgaug<0.2.7,>=0.2.5, but you have imgaug 0.2.9 which is incompatible.\u001b[0m\n",
            "Successfully installed ciso8601-2.1.1 matplotlib-3.1.2 numpy-1.17.3 pandas-0.25.3 scikit-multiflow-0.3.0 scipy-1.3.1\n"
          ]
        },
        {
          "output_type": "display_data",
          "data": {
            "application/vnd.colab-display-data+json": {
              "pip_warning": {
                "packages": [
                  "matplotlib",
                  "mpl_toolkits",
                  "numpy",
                  "pandas"
                ]
              }
            }
          },
          "metadata": {}
        }
      ],
      "source": [
        "!git clone https://github.com/vvviet2908/flowrec # clone repo\n",
        "%cd flowrec\n",
        "!pip3 install -r requirements.txt # install dependencies"
      ]
    },
    {
      "cell_type": "code",
      "execution_count": null,
      "metadata": {
        "colab": {
          "base_uri": "https://localhost:8080/"
        },
        "id": "S3_Wkx20KO5T",
        "outputId": "a2a549a6-d397-4177-a860-9989afdc9984"
      },
      "outputs": [
        {
          "output_type": "stream",
          "name": "stdout",
          "text": [
            "/content/flowrec\n"
          ]
        }
      ],
      "source": [
        "%cd flowrec"
      ]
    },
    {
      "cell_type": "code",
      "execution_count": null,
      "metadata": {
        "colab": {
          "base_uri": "https://localhost:8080/"
        },
        "id": "RZ4lhtY7nmKz",
        "outputId": "10e7dac7-cc78-4287-abfb-9cfc91407af7"
      },
      "outputs": [
        {
          "output_type": "stream",
          "name": "stdout",
          "text": [
            "Prequential Evaluation\n",
            "Evaluating 1 target(s).\n",
            "Evaluating...\n",
            " #################### [100%] [802.25s]\n",
            "Processed samples: 100000\n",
            "Mean performance:\n",
            "HT_mc - Recall@10    : 0.1570\n",
            "HT_mc - Mrr@10    : 0.0843\n",
            "HT_mc - Training time (s)  : 30.48\n",
            "HT_mc - Testing time  (s)  : 207.39\n",
            "HT_mc - Total time    (s)  : 237.87\n",
            "HT_nb - Recall@10    : 0.1570\n",
            "HT_nb - Mrr@10    : 0.0843\n",
            "HT_nb - Training time (s)  : 27.25\n",
            "HT_nb - Testing time  (s)  : 293.07\n",
            "HT_nb - Total time    (s)  : 320.32\n",
            "SKNN - Recall@10    : 0.1307\n",
            "SKNN - Mrr@10    : 0.0722\n",
            "SKNN - Training time (s)  : 19.56\n",
            "SKNN - Testing time  (s)  : 112.69\n",
            "SKNN - Total time    (s)  : 132.25\n",
            "training time window: 20000\n",
            "number of sessions: 26046\n",
            "number of evaluations: 73954\n",
            "avg. session size: 3.84\n"
          ]
        },
        {
          "output_type": "execute_result",
          "data": {
            "text/plain": [
              "[HTWrapper_mc(estimator=None, max_session_size=20, weight_inv=None,\n",
              "              weight_mc=None),\n",
              " HTWrapper(estimator=None, max_session_size=20, weight_inv=None, weight_mc=None),\n",
              " SKNNClassifier(k=300, sample_recent=True, sample_size=1500, similarity='cosine',\n",
              "                sliding_window=True)]"
            ]
          },
          "metadata": {},
          "execution_count": 2
        }
      ],
      "source": [
        "import matplotlib.pyplot as plt\n",
        "from skmultiflow.data import FileStream\n",
        "from evaluation.evaluate_prequential import EvaluatePrequential\n",
        "from recommendation.ht_wrapper import HTWrapper\n",
        "from recommendation.htmc_wrapper import HTWrapper_mc\n",
        "from recommendation.sknn import SKNNClassifier\n",
        "\n",
        "\n",
        "# Create stream\n",
        "stream = FileStream(\"./data/yoochoose_clicks_1M100K.csv\")\n",
        "stream.prepare_for_use()\n",
        "\n",
        "# Instantiate recommender\n",
        "ht_mc = HTWrapper_mc(weight_mc=3, weight_inv=0.9)\n",
        "ht_nb = HTWrapper(weight_mc=3, weight_inv=0.9)\n",
        "sknn = SKNNClassifier(k=300, sample_size=1500, sample_recent=True,\n",
        "                      similarity='cosine', sliding_window=True)\n",
        "# Configure evaluator\n",
        "evaluator = EvaluatePrequential(session_column_index=0,\n",
        "                                rec_size=10,\n",
        "                                pretrain_size=0,\n",
        "                                n_wait=200,      # evaluation window\n",
        "                                n_keep=20000,    # observation window\n",
        "                                max_samples=100000,\n",
        "                                metrics=['recall','mrr','running_time'])\n",
        "\n",
        "# Run evaluation\n",
        "evaluator.evaluate(stream=stream, model=[ht_mc, ht_nb, sknn], model_names=['HT_mc','HT_nb','SKNN'])"
      ]
    },
    {
      "cell_type": "code",
      "execution_count": null,
      "metadata": {
        "colab": {
          "base_uri": "https://localhost:8080/"
        },
        "id": "biZMosOUw05E",
        "outputId": "5cbb86e5-95f0-4bc9-d9a6-702e07ca2fd7"
      },
      "outputs": [
        {
          "output_type": "stream",
          "name": "stdout",
          "text": [
            "Prequential Evaluation\n",
            "Evaluating 1 target(s).\n",
            "Evaluating...\n",
            " #################### [100%] [5187.05s]\n",
            "Processed samples: 100000\n",
            "Mean performance:\n",
            "ht_nb - Recall@10    : 0.0795\n",
            "ht_nb - Mrr@10    : 0.0339\n",
            "ht_nb - Training time (s)  : 465.37\n",
            "ht_nb - Testing time  (s)  : 3326.22\n",
            "ht_nb - Total time    (s)  : 3791.59\n",
            "ht_mc - Recall@10    : 0.0800\n",
            "ht_mc - Mrr@10    : 0.0342\n",
            "ht_mc - Training time (s)  : 453.15\n",
            "ht_mc - Testing time  (s)  : 846.23\n",
            "ht_mc - Total time    (s)  : 1299.38\n",
            "training time window: 20000\n",
            "number of sessions: 684\n",
            "number of evaluations: 99316\n",
            "avg. session size: 146.20\n"
          ]
        },
        {
          "output_type": "execute_result",
          "data": {
            "text/plain": [
              "[HTWrapper(estimator=None, max_session_size=20, weight_inv=None, weight_mc=None),\n",
              " HTWrapper_mc(estimator=None, max_session_size=20, weight_inv=None,\n",
              "              weight_mc=None)]"
            ]
          },
          "metadata": {},
          "execution_count": 3
        }
      ],
      "source": [
        "from skmultiflow.data import FileStream\n",
        "from evaluation.evaluate_prequential import EvaluatePrequential\n",
        "from recommendation.ht_wrapper import HTWrapper\n",
        "from recommendation.htmc_wrapper import HTWrapper_mc\n",
        "from recommendation.sknn import SKNNClassifier\n",
        "\n",
        "# Create stream\n",
        "stream = FileStream(\"./data/Movielens1M_positive.csv\")\n",
        "stream.prepare_for_use()\n",
        "\n",
        "# Instantiate recommender\n",
        "ht = HTWrapper(weight_mc=3, weight_inv=0.9)\n",
        "ht_mc = HTWrapper_mc(weight_mc=3, weight_inv=0.9)\n",
        "sknn = SKNNClassifier(k=100, sample_size=1000, sample_recent=True,\n",
        "                      similarity='cosine', sliding_window=True)\n",
        "# Configure evaluator\n",
        "evaluator = EvaluatePrequential(session_column_index=0,\n",
        "                                rec_size=10,\n",
        "                                pretrain_size=0,\n",
        "                                n_wait=200,      # evaluation window\n",
        "                                n_keep=20000,    # observation window\n",
        "                                max_samples=100000,\n",
        "                                metrics=['recall','mrr','running_time'])\n",
        "\n",
        "# Run evaluation\n",
        "evaluator.evaluate(stream=stream, model=[ht,ht_mc], model_names=['ht_nb','ht_mc'])"
      ]
    },
    {
      "cell_type": "code",
      "execution_count": null,
      "metadata": {
        "colab": {
          "base_uri": "https://localhost:8080/"
        },
        "id": "RknwMxq9AGDo",
        "outputId": "5291ce7e-954e-49fc-a604-af7b2baa72ab"
      },
      "outputs": [
        {
          "output_type": "stream",
          "name": "stdout",
          "text": [
            "Prequential Evaluation\n",
            "Evaluating 1 target(s).\n",
            "Evaluating...\n",
            " #################### [100%] [2460.30s]\n",
            "Processed samples: 100000\n",
            "Mean performance:\n",
            "HT_mc - Recall@10    : 0.0169\n",
            "HT_mc - Mrr@10    : 0.0093\n",
            "HT_mc - Training time (s)  : 14.08\n",
            "HT_mc - Testing time  (s)  : 869.80\n",
            "HT_mc - Total time    (s)  : 883.87\n",
            "HT_nb - Recall@10    : 0.0169\n",
            "HT_nb - Mrr@10    : 0.0093\n",
            "HT_nb - Training time (s)  : 10.71\n",
            "HT_nb - Testing time  (s)  : 868.80\n",
            "HT_nb - Total time    (s)  : 879.50\n",
            "SKNN - Recall@10    : 0.0087\n",
            "SKNN - Mrr@10    : 0.0051\n",
            "SKNN - Training time (s)  : 27.90\n",
            "SKNN - Testing time  (s)  : 185.89\n",
            "SKNN - Total time    (s)  : 213.79\n",
            "training time window: 20000\n",
            "number of sessions: 52622\n",
            "number of evaluations: 47371\n",
            "avg. session size: 1.90\n"
          ]
        },
        {
          "output_type": "execute_result",
          "data": {
            "text/plain": [
              "[HTWrapper_mc(estimator=None, max_session_size=20, weight_inv=None,\n",
              "              weight_mc=None),\n",
              " HTWrapper(estimator=None, max_session_size=20, weight_inv=None, weight_mc=None),\n",
              " SKNNClassifier(k=100, sample_recent=True, sample_size=1000, similarity='cosine',\n",
              "                sliding_window=True)]"
            ]
          },
          "metadata": {},
          "execution_count": 7
        }
      ],
      "source": [
        "from skmultiflow.data import FileStream\n",
        "from evaluation.evaluate_prequential import EvaluatePrequential\n",
        "from recommendation.ht_wrapper import HTWrapper\n",
        "from recommendation.sknn import SKNNClassifier\n",
        "\n",
        "# Create stream\n",
        "stream = FileStream(\"./data/trivago_1M100K.csv\")\n",
        "stream.prepare_for_use()\n",
        "\n",
        "# Instantiate recommender\n",
        "ht_mc = HTWrapper_mc(weight_mc=5, weight_inv=0.90)\n",
        "ht_nb = HTWrapper(weight_mc=5, weight_inv=0.90)\n",
        "sknn = SKNNClassifier(k=100, sample_size=1000, sample_recent=True,\n",
        "                      similarity='cosine', sliding_window=True)\n",
        "# Configure evaluator\n",
        "evaluator = EvaluatePrequential(session_column_index=0,\n",
        "                                rec_size=10,\n",
        "                                pretrain_size=0,\n",
        "                                n_wait=200,      # evaluation window\n",
        "                                n_keep=20000,    # observation window\n",
        "                                max_samples=100000,\n",
        "                                metrics=['recall','mrr','running_time'])\n",
        "\n",
        "# Run evaluation\n",
        "evaluator.evaluate(stream=stream, model=[ht_mc, ht_nb, sknn], model_names=['HT_mc','HT_nb','SKNN'])"
      ]
    },
    {
      "cell_type": "code",
      "source": [
        ""
      ],
      "metadata": {
        "id": "Wmry4I-EEWHp"
      },
      "execution_count": null,
      "outputs": []
    }
  ],
  "metadata": {
    "accelerator": "GPU",
    "colab": {
      "name": "increRecSys.ipynb",
      "provenance": [],
      "authorship_tag": "ABX9TyNevDorBAcUig3wLkbHg/nT",
      "include_colab_link": true
    },
    "kernelspec": {
      "display_name": "Python 3",
      "name": "python3"
    },
    "language_info": {
      "name": "python"
    }
  },
  "nbformat": 4,
  "nbformat_minor": 0
}